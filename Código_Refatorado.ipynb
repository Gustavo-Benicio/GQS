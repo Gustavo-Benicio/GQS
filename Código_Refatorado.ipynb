{
  "nbformat": 4,
  "nbformat_minor": 0,
  "metadata": {
    "colab": {
      "provenance": [],
      "authorship_tag": "ABX9TyMKl7K0JViZbvYdhL4OIUSb",
      "include_colab_link": true
    },
    "kernelspec": {
      "name": "python3",
      "display_name": "Python 3"
    },
    "language_info": {
      "name": "python"
    }
  },
  "cells": [
    {
      "cell_type": "markdown",
      "metadata": {
        "id": "view-in-github",
        "colab_type": "text"
      },
      "source": [
        "<a href=\"https://colab.research.google.com/github/Gustavo-Benicio/GQS/blob/main/C%C3%B3digo_Refatorado.ipynb\" target=\"_parent\"><img src=\"https://colab.research.google.com/assets/colab-badge.svg\" alt=\"Open In Colab\"/></a>"
      ]
    },
    {
      "cell_type": "code",
      "execution_count": 1,
      "metadata": {
        "colab": {
          "base_uri": "https://localhost:8080/"
        },
        "id": "IhAxf2Nqf1zv",
        "outputId": "734a0db2-442f-45d6-f333-abbc93682b5c"
      },
      "outputs": [
        {
          "output_type": "stream",
          "name": "stdout",
          "text": [
            "=== Calculadora ===\n",
            "Digite o primeiro número: 4\n",
            "Digite o segundo número: 10\n",
            "Digite a operação (+, -, *, /): +\n",
            "Resultado: 14.0\n",
            "Quer continuar? (s/n): n\n",
            "Saindo...\n"
          ]
        }
      ],
      "source": [
        "# Calculadora antes de ser refatorada\n",
        "\n",
        "def calc():\n",
        "    print(\"=== Calculadora ===\")\n",
        "    n1 = float(input(\"Digite o primeiro número: \"))\n",
        "    n2 = float(input(\"Digite o segundo número: \"))\n",
        "    op = input(\"Digite a operação (+, -, *, /): \")\n",
        "    if op == '+':\n",
        "        print(\"Resultado:\", n1 + n2)\n",
        "    else:\n",
        "        if op == '-':\n",
        "            print(\"Resultado:\", n1 - n2)\n",
        "        else:\n",
        "            if op == '*':\n",
        "                print(\"Resultado:\", n1 * n2)\n",
        "            else:\n",
        "                if op == '/':\n",
        "                    if n2 == 0:\n",
        "                        print(\"Erro: divisão por zero!\")\n",
        "                    else:\n",
        "                        print(\"Resultado:\", n1 / n2)\n",
        "                else:\n",
        "                    print(\"Operação inválida!\")\n",
        "\n",
        "while True:\n",
        "    calc()\n",
        "    c = input(\"Quer continuar? (s/n): \")\n",
        "    if c != 's':\n",
        "        print(\"Saindo...\")\n",
        "        break\n"
      ]
    },
    {
      "cell_type": "code",
      "source": [
        "\"\"\"\n",
        "Calculadora Refatorada\n",
        "----------------------\n",
        "\n",
        "Refatorações aplicadas:\n",
        "1. Divisão da lógica em funções menores (modularização).\n",
        "2. Substituição de múltiplos if/else aninhados por dicionário de operações.\n",
        "3. Implementação de tratamento de exceções e mensagens claras ao usuário.\n",
        "4. Adoção de boas práticas PEP8 (nomes descritivos, tipagem e docstrings).\n",
        "\"\"\"\n",
        "\n",
        "# Cada operação agora tem sua própria função, eliminando duplicação\n",
        "def somar(a: float, b: float) -> float:\n",
        "    \"\"\"Retorna a soma de dois números.\"\"\"\n",
        "    return a + b\n",
        "\n",
        "\n",
        "def subtrair(a: float, b: float) -> float:\n",
        "    \"\"\"Retorna a subtração de dois números.\"\"\"\n",
        "    return a - b\n",
        "\n",
        "\n",
        "def multiplicar(a: float, b: float) -> float:\n",
        "    \"\"\"Retorna a multiplicação de dois números.\"\"\"\n",
        "    return a * b\n",
        "\n",
        "\n",
        "def dividir(a: float, b: float) -> float:\n",
        "    \"\"\"Retorna a divisão de dois números, tratando divisão por zero.\"\"\"\n",
        "    if b == 0:\n",
        "        # Tratamento de erro específico para divisão por zero\n",
        "        raise ValueError(\"Erro: divisão por zero não é permitida.\")\n",
        "    return a / b\n",
        "\n",
        "\n",
        "def calcular(a: float, b: float, operacao: str) -> float:\n",
        "    \"\"\"\n",
        "    Executa a operação matemática com base no operador informado.\n",
        "\n",
        "    Substituímos a cadeia de if/else por um dicionário,\n",
        "    que mapeia os operadores diretamente para suas funções correspondentes.\n",
        "    \"\"\"\n",
        "    operacoes = {\n",
        "        '+': somar,\n",
        "        '-': subtrair,\n",
        "        '*': multiplicar,\n",
        "        '/': dividir\n",
        "    }\n",
        "\n",
        "    if operacao not in operacoes:\n",
        "        # Tratamento de entrada inválida (boa prática de validação)\n",
        "        raise ValueError(\"Operação inválida! Use +, -, * ou /.\")\n",
        "\n",
        "    # Chama dinamicamente a função correspondente\n",
        "    return operacoes[operacao](a, b)\n",
        "\n",
        "\n",
        "def main():\n",
        "    \"\"\"Interface principal da calculadora (controla o fluxo do programa).\"\"\"\n",
        "    print(\"=== Calculadora Refatorada ===\")\n",
        "\n",
        "    while True:\n",
        "        try:\n",
        "            # Entrada de dados com validação e tratamento de exceções\n",
        "            numero1 = float(input(\"Digite o primeiro número: \"))\n",
        "            numero2 = float(input(\"Digite o segundo número: \"))\n",
        "            operador = input(\"Digite a operação (+, -, *, /): \")\n",
        "\n",
        "            # Chamada da função principal de cálculo\n",
        "            resultado = calcular(numero1, numero2, operador)\n",
        "            print(f\"Resultado: {resultado}\")\n",
        "\n",
        "        except ValueError as erro:\n",
        "            # Exibe mensagem de erro amigável sem quebrar o programa\n",
        "            print(erro)\n",
        "\n",
        "        # Controle de fluxo para continuar ou encerrar\n",
        "        continuar = input(\"Deseja realizar outra operação? (s/n): \").lower()\n",
        "        if continuar != 's':\n",
        "            print(\"Encerrando a calculadora...\")\n",
        "            break\n",
        "\n",
        "if __name__ == \"__main__\":\n",
        "    main()\n"
      ],
      "metadata": {
        "colab": {
          "base_uri": "https://localhost:8080/"
        },
        "id": "0bHlE0FN1G5H",
        "outputId": "a2f1e3ee-502a-4c87-f21b-cb7cab61f835"
      },
      "execution_count": 2,
      "outputs": [
        {
          "output_type": "stream",
          "name": "stdout",
          "text": [
            "=== Calculadora Refatorada ===\n",
            "Digite o primeiro número: 10\n",
            "Digite o segundo número: 20\n",
            "Digite a operação (+, -, *, /): -\n",
            "Resultado: -10.0\n",
            "Deseja realizar outra operação? (s/n): n\n",
            "Encerrando a calculadora...\n"
          ]
        }
      ]
    },
    {
      "cell_type": "code",
      "source": [
        "import unittest\n",
        "\n",
        "class TestCalculadora(unittest.TestCase):\n",
        "    \"\"\"Classe de testes unitários para a calculadora.\"\"\"\n",
        "\n",
        "    def test_soma(self):\n",
        "        \"\"\"Testa a função somar.\"\"\"\n",
        "        self.assertEqual(somar(5, 3), 8)\n",
        "\n",
        "    def test_subtracao(self):\n",
        "        \"\"\"Testa a função subtrair.\"\"\"\n",
        "        self.assertEqual(subtrair(10, 4), 6)\n",
        "\n",
        "    def test_multiplicacao(self):\n",
        "        \"\"\"Testa a função multiplicar.\"\"\"\n",
        "        self.assertEqual(multiplicar(2, 5), 10)\n",
        "\n",
        "    def test_divisao(self):\n",
        "        \"\"\"Testa a função dividir.\"\"\"\n",
        "        self.assertEqual(dividir(10, 2), 5)\n",
        "\n",
        "    def test_divisao_por_zero(self):\n",
        "        \"\"\"Verifica se ocorre erro ao dividir por zero.\"\"\"\n",
        "        with self.assertRaises(ValueError):\n",
        "            dividir(10, 0)\n",
        "\n",
        "    def test_operacao_invalida(self):\n",
        "        \"\"\"Verifica se operação inválida gera erro.\"\"\"\n",
        "        with self.assertRaises(ValueError):\n",
        "            calcular(5, 5, '%')\n",
        "\n",
        "    def test_calcular(self):\n",
        "        \"\"\"Testa se o método calcular executa corretamente as operações.\"\"\"\n",
        "        self.assertEqual(calcular(3, 3, '+'), 6)\n",
        "        self.assertEqual(calcular(10, 2, '-'), 8)\n",
        "        self.assertEqual(calcular(4, 2, '*'), 8)\n",
        "        self.assertEqual(calcular(9, 3, '/'), 3)\n",
        "\n",
        "unittest.main(argv=[''], verbosity=2, exit=False)\n"
      ],
      "metadata": {
        "colab": {
          "base_uri": "https://localhost:8080/"
        },
        "id": "IB1sFnNM1vy9",
        "outputId": "2a9d4e75-c200-472e-fa7e-d67be8a2c0f7"
      },
      "execution_count": 3,
      "outputs": [
        {
          "output_type": "stream",
          "name": "stderr",
          "text": [
            "test_calcular (__main__.TestCalculadora.test_calcular)\n",
            "Testa se o método calcular executa corretamente as operações. ... ok\n",
            "test_divisao (__main__.TestCalculadora.test_divisao)\n",
            "Testa a função dividir. ... ok\n",
            "test_divisao_por_zero (__main__.TestCalculadora.test_divisao_por_zero)\n",
            "Verifica se ocorre erro ao dividir por zero. ... ok\n",
            "test_multiplicacao (__main__.TestCalculadora.test_multiplicacao)\n",
            "Testa a função multiplicar. ... ok\n",
            "test_operacao_invalida (__main__.TestCalculadora.test_operacao_invalida)\n",
            "Verifica se operação inválida gera erro. ... ok\n",
            "test_soma (__main__.TestCalculadora.test_soma)\n",
            "Testa a função somar. ... ok\n",
            "test_subtracao (__main__.TestCalculadora.test_subtracao)\n",
            "Testa a função subtrair. ... ok\n",
            "\n",
            "----------------------------------------------------------------------\n",
            "Ran 7 tests in 0.013s\n",
            "\n",
            "OK\n"
          ]
        },
        {
          "output_type": "execute_result",
          "data": {
            "text/plain": [
              "<unittest.main.TestProgram at 0x7afa288512e0>"
            ]
          },
          "metadata": {},
          "execution_count": 3
        }
      ]
    },
    {
      "cell_type": "code",
      "source": [],
      "metadata": {
        "id": "CV1W4O3A1zzP"
      },
      "execution_count": null,
      "outputs": []
    }
  ]
}